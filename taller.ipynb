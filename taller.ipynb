{
 "cells": [
  {
   "cell_type": "markdown",
   "metadata": {},
   "source": [
    "# Aprendizaje automático en GCP con BigQuery"
   ]
  },
  {
   "cell_type": "markdown",
   "metadata": {},
   "source": [
    "![banner](https://github.com/langheran/GITMA2022/raw/main/images/banner.png)"
   ]
  },
  {
   "cell_type": "markdown",
   "metadata": {},
   "source": [
    "## Objetivos"
   ]
  },
  {
   "cell_type": "markdown",
   "metadata": {},
   "source": [
    "Este notebook ilustra los siguientes conceptos.\n",
    "\n",
    "1. Crear un proyecto o usar una cuenta de servicio para conectarnos a _BigQuery_\n",
    "2. Cargar en un `DataFrame` de `pandas` el resultado de un query en _BigQuery_ hacia una base de datos pública \n",
    "3. Usar _Aprendizaje Automático_ desde _BigQuery_\n",
    "4. Hacer una predicción con un modelo creado con el lenguaje _BQML_\n",
    "5. Incrementar la precisión de nuestro modelo con ingeniería de atributos\n",
    "\n",
    "Cada objetivo corresponde a un #TODO en el notebook. Trata de completar todo el ejercicio antes de ver la solución."
   ]
  },
  {
   "cell_type": "markdown",
   "metadata": {},
   "source": [
    "Este laboratorio esta basado en esta lección de [Coursera](https://www.coursera.org/lecture/end-to-end-ml-tensorflow-gcp/lab-solution-bigquery-ml-klM24).\n",
    "\n",
    "Este es el [jupyter notebook](https://github.com/GoogleCloudPlatform/training-data-analyst/blob/master/courses/machine_learning/deepdive/06_structured/5_train_bqml.ipynb) original."
   ]
  },
  {
   "cell_type": "markdown",
   "metadata": {},
   "source": [
    "####  Costo de BigQuery\n",
    "\n",
    "El free tier de BigQuery incluye procesamiento hasta 10 GB con `CREATE_MODEL`. Para más información ver las siguientes referencias:\n",
    "- [BigQuery Sandbox](https://cloud.google.com/bigquery/docs/sandbox)\n",
    "- [BigQuery Pricing](https://cloud.google.com/bigquery-ml/pricing)"
   ]
  },
  {
   "cell_type": "markdown",
   "metadata": {},
   "source": [
    "## Requerimientos"
   ]
  },
  {
   "cell_type": "markdown",
   "metadata": {},
   "source": [
    "### Paso 1:Instalar la librería Google Cloud Bigquery "
   ]
  },
  {
   "cell_type": "markdown",
   "metadata": {},
   "source": [
    "Primero instalamos la autenticación a GCP en `google-auth` y luego la _Python Client Library_ de BigQuery en `google-cloud-bigquery`."
   ]
  },
  {
   "cell_type": "code",
   "execution_count": null,
   "metadata": {},
   "outputs": [],
   "source": [
    "%%capture\n",
    "!pip3 install google-auth\n",
    "!pip3 install google-cloud-bigquery"
   ]
  },
  {
   "cell_type": "markdown",
   "metadata": {},
   "source": [
    "### Paso 2: Instalar otros requerimientos"
   ]
  },
  {
   "cell_type": "markdown",
   "metadata": {},
   "source": [
    "Ahora instalamos algunos requerimientos para correr el _jupyter_ y visualizar los datos como son, `ipykernel`, `tqdm`, `matplotlib`, etc..."
   ]
  },
  {
   "cell_type": "code",
   "execution_count": null,
   "metadata": {},
   "outputs": [],
   "source": [
    "%%bash\n",
    "cat requirements.txt"
   ]
  },
  {
   "cell_type": "code",
   "execution_count": null,
   "metadata": {},
   "outputs": [],
   "source": [
    "%%capture\n",
    "!pip3 install -r requirements.txt"
   ]
  },
  {
   "cell_type": "markdown",
   "metadata": {},
   "source": [
    "### Paso 3. Incluir utilerías y cell magics"
   ]
  },
  {
   "cell_type": "markdown",
   "metadata": {},
   "source": [
    "Ahora incluimos un par de utilerías para poder visualizar mejor la información."
   ]
  },
  {
   "cell_type": "code",
   "execution_count": null,
   "metadata": {},
   "outputs": [],
   "source": [
    "%run utils.py"
   ]
  },
  {
   "cell_type": "markdown",
   "metadata": {},
   "source": [
    "También incluimos algunos `cell-magics`."
   ]
  },
  {
   "cell_type": "code",
   "execution_count": null,
   "metadata": {},
   "outputs": [],
   "source": [
    "%reload_ext fstring_magic\n",
    "%reload_ext google.cloud.bigquery"
   ]
  },
  {
   "cell_type": "markdown",
   "metadata": {},
   "source": [
    "## Conectar las Client Libraries de BigQuery"
   ]
  },
  {
   "cell_type": "code",
   "execution_count": null,
   "metadata": {},
   "outputs": [],
   "source": [
    "credentials = None"
   ]
  },
  {
   "cell_type": "markdown",
   "metadata": {},
   "source": [
    "### Paso 1: Crear proyecto en Google Cloud y habilitar BigQuery Sandbox"
   ]
  },
  {
   "cell_type": "markdown",
   "metadata": {},
   "source": [
    "En caso de estar corriendo este lab en `cloudshell` efímero, o con una cuenta propia, en esta sección aprenderemos a crear un proyecto y habilitar la API de BigQuery."
   ]
  },
  {
   "cell_type": "code",
   "execution_count": null,
   "metadata": {},
   "outputs": [],
   "source": [
    "\n",
    "import sys\n",
    "import os\n",
    "os.environ['CLOUDSDK_PYTHON']=sys.executable"
   ]
  },
  {
   "cell_type": "code",
   "execution_count": null,
   "metadata": {},
   "outputs": [],
   "source": [
    "USER = !(echo $$USER)\n",
    "USER_HASH = abs(hash(USER[0])) % (10 ** 4)\n",
    "PROJECT_ID = f\"gitma2022-gcp-{USER_HASH}\"\n",
    "REGION = \"us-central1\"\n",
    "BIGQUERY_SERVICE = \"bigquery.googleapis.com\""
   ]
  },
  {
   "cell_type": "code",
   "execution_count": null,
   "metadata": {},
   "outputs": [],
   "source": [
    "!gcloud config set disable_prompts true\n",
    "if os.getenv(\"IS_TESTING\"):\n",
    "    !gcloud --quiet components install beta\n",
    "    !gcloud --quiet components update\n",
    "\n",
    "# TODO 1.: Rellena el código necesario para crear el proyecto"
   ]
  },
  {
   "cell_type": "markdown",
   "metadata": {},
   "source": [
    "Con estas dos líneas configuramos `gcloud` para con el nuevo proyecto y región en _US_."
   ]
  },
  {
   "cell_type": "code",
   "execution_count": null,
   "metadata": {},
   "outputs": [],
   "source": [
    "!gcloud config set project $PROJECT_ID\n",
    "!gcloud config set compute/region $REGION"
   ]
  },
  {
   "cell_type": "markdown",
   "metadata": {},
   "source": [
    "Ahora, habilitamos la `BigQuery API`."
   ]
  },
  {
   "cell_type": "code",
   "execution_count": null,
   "metadata": {},
   "outputs": [],
   "source": [
    " !gcloud services enable $BIGQUERY_SERVICE"
   ]
  },
  {
   "cell_type": "code",
   "execution_count": null,
   "metadata": {},
   "outputs": [],
   "source": [
    "%%fstring\n",
    "Listo! creamos un nuevo proyecto **{PROJECT_ID}**, ahora vamos a probar que tengamos conectividad con _BigQuery_."
   ]
  },
  {
   "cell_type": "code",
   "execution_count": null,
   "metadata": {},
   "outputs": [],
   "source": [
    "from google.cloud.bigquery import magics\n",
    "magics.context.project = PROJECT_ID"
   ]
  },
  {
   "cell_type": "code",
   "execution_count": null,
   "metadata": {},
   "outputs": [],
   "source": [
    "from google.cloud import bigquery\n",
    "bq_client = bigquery.Client(\n",
    "    project=PROJECT_ID,\n",
    ")"
   ]
  },
  {
   "cell_type": "code",
   "execution_count": null,
   "metadata": {},
   "outputs": [],
   "source": [
    "PROJECT_ID=!(gcloud config get-value core/project)\n",
    "if isinstance(PROJECT_ID, list):\n",
    "    PROJECT_ID = PROJECT_ID[0]\n",
    "PROJECT_ID"
   ]
  },
  {
   "cell_type": "markdown",
   "metadata": {},
   "source": [
    "Veamos un histograma de cuantos nacimientos hay en la base de datos `bigquery-public-data.samples.natality` por año."
   ]
  },
  {
   "cell_type": "code",
   "execution_count": null,
   "metadata": {},
   "outputs": [],
   "source": [
    "%%bigquery total_births\n",
    "SELECT\n",
    "    source_year AS year,\n",
    "    COUNT(is_male) AS birth_count\n",
    "FROM `bigquery-public-data.samples.natality`\n",
    "GROUP BY year\n",
    "ORDER BY year DESC\n",
    "LIMIT 15"
   ]
  },
  {
   "cell_type": "code",
   "execution_count": null,
   "metadata": {},
   "outputs": [],
   "source": [
    "%matplotlib inline"
   ]
  },
  {
   "cell_type": "code",
   "execution_count": null,
   "metadata": {},
   "outputs": [],
   "source": [
    "total_births.plot(kind=\"bar\", x=\"year\", y=\"birth_count\")"
   ]
  },
  {
   "cell_type": "markdown",
   "metadata": {},
   "source": [
    "### Paso 2: Leer credenciales de un Service Account (Opcional)"
   ]
  },
  {
   "cell_type": "markdown",
   "metadata": {},
   "source": [
    "En caso de estar corriendo este jupyter fuera del entorno de `cloudshell`, puedes optar por seguir los siguientes pasos"
   ]
  },
  {
   "cell_type": "code",
   "execution_count": null,
   "metadata": {},
   "outputs": [],
   "source": [
    "key_filename=\"gitma-351819-e8d9daa363c5\"\n",
    "key_json_filename=f\"{key_filename}.json\"\n",
    "key_encrypted_filename=f\"{key_json_filename}.encrypted\""
   ]
  },
  {
   "cell_type": "markdown",
   "metadata": {},
   "source": [
    "#### Crear una SA (service account) con Cloud SDK `gcloud`"
   ]
  },
  {
   "cell_type": "code",
   "execution_count": null,
   "metadata": {},
   "outputs": [],
   "source": [
    "SERVICE_ACCOUNT_NAME=\"workshop\"\n",
    "ROLE=\"roles/bigquery.dataEditor\"\n",
    "ACCOUNT_MEMBER=f\"serviceAccount:{SERVICE_ACCOUNT_NAME}@{PROJECT_ID}.iam.gserviceaccount.com\""
   ]
  },
  {
   "cell_type": "markdown",
   "metadata": {},
   "source": [
    "Creamos la `service account`."
   ]
  },
  {
   "cell_type": "code",
   "execution_count": null,
   "metadata": {},
   "outputs": [],
   "source": [
    "!gcloud iam service-accounts create $SERVICE_ACCOUNT_NAME"
   ]
  },
  {
   "cell_type": "markdown",
   "metadata": {},
   "source": [
    "Le asignamos el [rol](https://cloud.google.com/bigquery/docs/access-control) de `roles/bigquery.dataEditor` para que pueda usar la sentencia `CREATE_MODEL`. En caso de que quisieramos evitar la creación y entrenamiento de modelos, conviene usar el rol `roles/bigquery.user`."
   ]
  },
  {
   "cell_type": "code",
   "execution_count": null,
   "metadata": {},
   "outputs": [],
   "source": [
    "!gcloud projects add-iam-policy-binding $PROJECT_ID --member=$ACCOUNT_MEMBER --role=$ROLE"
   ]
  },
  {
   "cell_type": "markdown",
   "metadata": {},
   "source": [
    "Ahora descargamos la llave `json` con las credenciales de la SA."
   ]
  },
  {
   "cell_type": "code",
   "execution_count": null,
   "metadata": {},
   "outputs": [],
   "source": [
    "IAM_ACCOUNT = f\"{SERVICE_ACCOUNT_NAME}@{PROJECT_ID}.iam.gserviceaccount.com\""
   ]
  },
  {
   "cell_type": "code",
   "execution_count": null,
   "metadata": {},
   "outputs": [],
   "source": [
    "!gcloud iam service-accounts keys create $key_json_filename --iam-account=$IAM_ACCOUNT"
   ]
  },
  {
   "cell_type": "code",
   "execution_count": null,
   "metadata": {},
   "outputs": [],
   "source": [
    "%%bash\n",
    "cat $key_json_filename"
   ]
  },
  {
   "cell_type": "markdown",
   "metadata": {},
   "source": [
    "#### ... o desencriptar la credencial"
   ]
  },
  {
   "cell_type": "code",
   "execution_count": null,
   "metadata": {},
   "outputs": [],
   "source": [
    "def encrypt_key():\n",
    "    import cryptocode\n",
    "    with open(key_json_filename, 'r') as fp:\n",
    "        content = fp.read()\n",
    "    password = input('Enter your password...')\n",
    "    enc_text = cryptocode.encrypt(content, password)\n",
    "    with open(key_encrypted_filename, 'w') as f:\n",
    "        f.write(enc_text)\n",
    "# encrypt()"
   ]
  },
  {
   "cell_type": "code",
   "execution_count": null,
   "metadata": {},
   "outputs": [],
   "source": [
    "import cryptocode\n",
    "\n",
    "def decrypt_key():\n",
    "    with open(key_encrypted_filename, 'r') as fp:\n",
    "        enc_text = fp.read()\n",
    "\n",
    "    password = input('Enter your password...')\n",
    "    content = cryptocode.decrypt(enc_text, password)\n",
    "    if not content:\n",
    "        print('Password incorrecto...')\n",
    "    else:\n",
    "        with open(key_json_filename, 'w') as f:\n",
    "            f.write(content)\n",
    "\n",
    "decrypt_key()"
   ]
  },
  {
   "cell_type": "markdown",
   "metadata": {},
   "source": [
    "#### Cargar una llave json a un objeto `service_account.Credentials`"
   ]
  },
  {
   "cell_type": "code",
   "execution_count": null,
   "metadata": {},
   "outputs": [],
   "source": [
    "import os\n",
    "from os.path import expanduser\n",
    "home = expanduser(\"~\")\n",
    "load_key_credentials = not os.path.exists(f'{home}/cloudshell_open')\n",
    "load_key_credentials"
   ]
  },
  {
   "cell_type": "code",
   "execution_count": null,
   "metadata": {},
   "outputs": [],
   "source": [
    "import pandas as pd\n",
    "from google.oauth2 import service_account\n",
    "import json\n",
    "\n",
    "if load_key_credentials:\n",
    "    credentials = service_account.Credentials.from_service_account_file(\n",
    "        key_json_filename,\n",
    "    )\n",
    "    PROJECT_ID = credentials.project_id\n",
    "    PROJECT_ID"
   ]
  },
  {
   "cell_type": "markdown",
   "metadata": {},
   "source": [
    "#### Inicializar objeto BigQuery client library con la SA"
   ]
  },
  {
   "cell_type": "code",
   "execution_count": null,
   "metadata": {},
   "outputs": [],
   "source": [
    "if load_key_credentials:\n",
    "    import os\n",
    "    os.environ['GOOGLE_APPLICATION_CREDENTIALS'] = os.path.abspath(key_json_filename)"
   ]
  },
  {
   "cell_type": "code",
   "execution_count": null,
   "metadata": {},
   "outputs": [],
   "source": [
    "if credentials:\n",
    "    from google.cloud import bigquery\n",
    "    bq_client = bigquery.Client(\n",
    "        credentials=credentials,\n",
    "        project=PROJECT_ID,\n",
    "    )"
   ]
  },
  {
   "cell_type": "markdown",
   "metadata": {},
   "source": [
    "#### Cargar el cell magic de BigQuery con la SA (Opcional)"
   ]
  },
  {
   "cell_type": "code",
   "execution_count": null,
   "metadata": {},
   "outputs": [],
   "source": [
    "%reload_ext google.cloud.bigquery\n",
    "from google.cloud.bigquery import magics\n",
    "magics.context.project = PROJECT_ID\n",
    "if credentials:\n",
    "    magics.context.credentials = credentials"
   ]
  },
  {
   "cell_type": "markdown",
   "metadata": {},
   "source": [
    "## Explorar la base de datos `publicdata.samples.natality`"
   ]
  },
  {
   "cell_type": "markdown",
   "metadata": {},
   "source": [
    "Hay 7 bases de datos públicas pre-cargadas en [BigQuery](https://console.cloud.google.com/bigquery?project=publicdata&ws=!1m4!1m3!3m2!1spublicdata!2ssamples) y se pueden encontrar en esta liga\n",
    "https://cloud.google.com/bigquery/public-data.\n",
    "\n",
    "Nosotros estamos interesados en la base de datos [natality](https://console.cloud.google.com/bigquery?p=bigquery-public-data&d=samples&t=natality&page=table)."
   ]
  },
  {
   "cell_type": "markdown",
   "metadata": {},
   "source": [
    "Hay varias formas de leer datos de _BigQuery_ a un `pandas.DataFrame`: con el [cell-magic](https://googleapis.dev/python/bigquery/latest/magics.html) `%%bigquery df` que vimos previamente, con el método de extensión `pandas.read_gbq` y con el `google.cloud.bigquery.Client`."
   ]
  },
  {
   "cell_type": "code",
   "execution_count": null,
   "metadata": {},
   "outputs": [],
   "source": [
    "query = \"\"\"\n",
    "SELECT\n",
    "  year,\n",
    "  COUNT(1) as num_babies\n",
    "FROM\n",
    "  publicdata.samples.natality\n",
    "WHERE\n",
    "  year > 2000\n",
    "GROUP BY\n",
    "  year\n",
    "\"\"\""
   ]
  },
  {
   "cell_type": "markdown",
   "metadata": {},
   "source": [
    "Este es un ejemplo usando el [cell-magic](https://googleapis.dev/python/bigquery/latest/magics.html) de `%%bigquery df`"
   ]
  },
  {
   "cell_type": "code",
   "execution_count": null,
   "metadata": {},
   "outputs": [],
   "source": [
    "%%bigquery df --params {\"year\": 2000}\n",
    "SELECT\n",
    "    *\n",
    "FROM\n",
    "  publicdata.samples.natality\n",
    "WHERE\n",
    "  year > @year\n",
    "  AND gestation_weeks > 0\n",
    "  AND mother_age > 0\n",
    "  AND plurality > 0\n",
    "  AND weight_pounds > 0\n",
    "ORDER BY\n",
    "  weight_pounds desc\n",
    "LIMIT 10"
   ]
  },
  {
   "cell_type": "markdown",
   "metadata": {},
   "source": [
    "El resultado es un `DataFrame` con los 10 bebes más pesados que nacieron a partir del año 2000."
   ]
  },
  {
   "cell_type": "code",
   "execution_count": null,
   "metadata": {},
   "outputs": [],
   "source": [
    "df.head()"
   ]
  },
  {
   "cell_type": "markdown",
   "metadata": {},
   "source": [
    "Este es un ejemplo usando la extensión de `pandas.read_gbq`, aunque en este ejemplo no la usaremos."
   ]
  },
  {
   "cell_type": "code",
   "execution_count": null,
   "metadata": {},
   "outputs": [],
   "source": [
    "if credentials:\n",
    "  df = pd.read_gbq(\n",
    "      query,\n",
    "      project_id=PROJECT_ID,\n",
    "      credentials=credentials,\n",
    "      dialect='standard',\n",
    "  )\n",
    "else:\n",
    "  df = pd.read_gbq(\n",
    "      query,\n",
    "      project_id=PROJECT_ID,\n",
    "      dialect='standard',\n",
    "  )"
   ]
  },
  {
   "cell_type": "markdown",
   "metadata": {},
   "source": [
    "El resultado es un `DataFrame` con los bebes que han nacido por año."
   ]
  },
  {
   "cell_type": "code",
   "execution_count": null,
   "metadata": {},
   "outputs": [],
   "source": [
    "df.head()"
   ]
  },
  {
   "cell_type": "markdown",
   "metadata": {},
   "source": [
    "Este es un ejemplo usando el objeto `bq_client` que creamos previamente."
   ]
  },
  {
   "cell_type": "code",
   "execution_count": null,
   "metadata": {},
   "outputs": [],
   "source": [
    "df_valid = bq_client.query(query).to_dataframe()\n",
    "# `head()` se usa para obtener las primeras filas de un DataFrame\n",
    "display(df_valid.head())\n",
    "# `describe()` se usa para generar la estadística descriptiva de un DataFrame\n",
    "df_valid.describe()"
   ]
  },
  {
   "cell_type": "markdown",
   "metadata": {},
   "source": [
    "Ahora [exploremos](https://github.com/GoogleCloudPlatform/training-data-analyst/blob/master/courses/machine_learning/deepdive/06_structured/1_explore.ipynb) un poco los datos. Primero creamos una función que nos regrese solo la agrupación por cierto campo, su cuenta y su promedio (media)."
   ]
  },
  {
   "cell_type": "code",
   "execution_count": null,
   "metadata": {},
   "outputs": [],
   "source": [
    "%%bigquery\n",
    "SELECT\n",
    "  AVG(weight_pounds) AS avg_wt\n",
    "FROM\n",
    "  publicdata.samples.natality\n",
    "WHERE\n",
    "  year > 2000"
   ]
  },
  {
   "cell_type": "code",
   "execution_count": null,
   "metadata": {},
   "outputs": [],
   "source": [
    "def get_distinct_values(column_name):\n",
    "  sql = \"\"\"\n",
    "SELECT\n",
    "  {0},\n",
    "  COUNT(1) AS num_babies,\n",
    "  AVG(weight_pounds) AS avg_wt\n",
    "FROM\n",
    "  publicdata.samples.natality\n",
    "WHERE\n",
    "  year > 2000\n",
    "GROUP BY\n",
    "  {0}\n",
    "  \"\"\".format(column_name)\n",
    "  return bq_client.query(sql).to_dataframe()"
   ]
  },
  {
   "cell_type": "markdown",
   "metadata": {},
   "source": [
    "#### Gráfica 1. Barras para visualizar `is_male` con respecto a su `avg_wt` y `num_babies`."
   ]
  },
  {
   "cell_type": "code",
   "execution_count": null,
   "metadata": {},
   "outputs": [],
   "source": [
    "# Bar plot to see is_male with avg_wt linear and num_babies logarithmic\n",
    "df = get_distinct_values('is_male')\n",
    "df.plot(x='is_male', y='num_babies', kind='bar');\n",
    "df.plot(x='is_male', y='avg_wt', kind='bar');"
   ]
  },
  {
   "cell_type": "markdown",
   "metadata": {},
   "source": [
    "#### Gráfica 2. Barras para visualizar `mother_age` con respecto a su `avg_wt` y `num_babies`."
   ]
  },
  {
   "cell_type": "code",
   "execution_count": null,
   "metadata": {},
   "outputs": [],
   "source": [
    "# Line plots to see mother_age with avg_wt linear and num_babies logarithmic\n",
    "df = get_distinct_values('mother_age')\n",
    "df = df.sort_values('mother_age')\n",
    "df.plot(x='mother_age', y='num_babies');\n",
    "df.plot(x='mother_age', y='avg_wt');"
   ]
  },
  {
   "cell_type": "markdown",
   "metadata": {},
   "source": [
    "#### Gráfica 3. Barras para visualizar `plurality` (trillizos, mellizos, etc) con respecto a su `avg_wt` y `num_babies`."
   ]
  },
  {
   "cell_type": "code",
   "execution_count": null,
   "metadata": {},
   "outputs": [],
   "source": [
    "# Bar plot to see plurality(singleton, twins, etc.) with avg_wt linear and num_babies logarithmic\n",
    "df = get_distinct_values('plurality')\n",
    "df = df.sort_values('plurality')\n",
    "df.plot(x='plurality', y='num_babies', logy=True, kind='bar');\n",
    "df.plot(x='plurality', y='avg_wt', kind='bar');"
   ]
  },
  {
   "cell_type": "markdown",
   "metadata": {},
   "source": [
    "#### Gráfica 4. Barras para visualizar `gestation_weeks` con respecto a su `avg_wt` y `num_babies`."
   ]
  },
  {
   "cell_type": "code",
   "execution_count": null,
   "metadata": {},
   "outputs": [],
   "source": [
    "# Bar plot to see gestation_weeks with avg_wt linear and num_babies logarithmic\n",
    "df = get_distinct_values('gestation_weeks')\n",
    "df = df.sort_values('gestation_weeks')\n",
    "df.plot(x='gestation_weeks', y='num_babies', logy=True, kind='bar');\n",
    "df.plot(x='gestation_weeks', y='avg_wt', kind='bar');"
   ]
  },
  {
   "cell_type": "markdown",
   "metadata": {},
   "source": [
    "## Crear un modelo de aprendizaje automático en BigQuery"
   ]
  },
  {
   "cell_type": "markdown",
   "metadata": {},
   "source": [
    "### Paso 1. Crear una base de datos de BigQuery en donde guardar el modelo"
   ]
  },
  {
   "cell_type": "markdown",
   "metadata": {},
   "source": [
    "Dado que vamos a crear un modelo en `BigQuery` es necesario crear un `dataset` en el cual podamos guardarlo."
   ]
  },
  {
   "cell_type": "code",
   "execution_count": null,
   "metadata": {},
   "outputs": [],
   "source": [
    "from google.api_core import exceptions\n",
    "dataset_id = \"{}.demo\".format(bq_client.project)\n",
    "dataset = bigquery.Dataset(dataset_id)\n",
    "dataset.location = \"US\"  # Multi-regional\n",
    "try:\n",
    "    # TODO 1.1. Rellena el código para crear la base de datos en Google Cloud  \n",
    "    dataset = bq_client.create_dataset(, timeout=30)  # Make an API request.\n",
    "    print(\"Created dataset {}.{}\".format(bq_client.project, dataset.dataset_id))\n",
    "except exceptions.Conflict as ex:\n",
    "    ..."
   ]
  },
  {
   "cell_type": "markdown",
   "metadata": {},
   "source": [
    "En caso de haber configurado la credencial como default en `gcloud` también es posible usar este comando para crear la base de datos.\n",
    "\n",
    "```\n",
    "bq --location=US mk -d demo\n",
    "```"
   ]
  },
  {
   "cell_type": "markdown",
   "metadata": {},
   "source": [
    "### Paso 2. Definir los features (atributos) a incluir en el modelo"
   ]
  },
  {
   "cell_type": "markdown",
   "metadata": {},
   "source": [
    "Al ver las columnas de la base de datos, podemos observar que hay ciertas columnas que pueden ser de nuestro interés a la hora de predecir un aproximado en el peso del bebé.\n",
    "\n",
    "Más aún, es posible fabricar nuevos features con la función `CAST` de BigQuery. En `BQML` todos los `strings` son considerados como features categóricos, y todos los numéricos como valores continuos. \n",
    "\n",
    "Agregamos la variable `hashmonth` para permitir el `split` (partición) de los datos de forma repetible y sin filtraciones (data leakage). Esto es porque queremos que todos los bebés que nacieron el mismo mes están ya sea en el `training` o en el `test` set y no regados entre ambos (de otra manera se estaría filtrando información, por ejemplo, en el caso de trillizos)."
   ]
  },
  {
   "cell_type": "code",
   "execution_count": null,
   "metadata": {},
   "outputs": [],
   "source": [
    "%%bigquery\n",
    "SELECT\n",
    "    weight_pounds, -- this is the label; because it is continuous, we need to use regression\n",
    "    CAST(is_male AS STRING) AS is_male,\n",
    "    mother_age,\n",
    "    CAST(plurality AS STRING) AS plurality,\n",
    "    gestation_weeks,\n",
    "    FARM_FINGERPRINT(CONCAT(CAST(YEAR AS STRING), CAST(month AS STRING))) AS hashmonth\n",
    "FROM\n",
    "  publicdata.samples.natality\n",
    "WHERE\n",
    "  year > 2000\n",
    "  AND gestation_weeks > 0\n",
    "  AND mother_age > 0\n",
    "  AND plurality > 0\n",
    "  AND weight_pounds > 0\n",
    "LIMIT 10"
   ]
  },
  {
   "cell_type": "markdown",
   "metadata": {},
   "source": [
    "### Paso 3. Crear un modelo con la sentencia BQML `CREATE MODEL`"
   ]
  },
  {
   "cell_type": "markdown",
   "metadata": {},
   "source": [
    "Una vez que tenemos las columnas a considerar en nuestro modelo, es posible crear nuestro modelo usando `BQML` (BigQuery Machine Learning).\n",
    "\n",
    "Usamos una [Common Table Expression](https://docs.microsoft.com/en-us/sql/t-sql/queries/with-common-table-expression-transact-sql?view=sql-server-ver16) o `CTE`, para facilitar el `SELECT` de los valores en el training set. \n",
    "\n",
    "Este proceso toma aproximadamente 4 minutos. "
   ]
  },
  {
   "cell_type": "code",
   "execution_count": null,
   "metadata": {},
   "outputs": [],
   "source": [
    "%%bigquery\n",
    "CREATE or REPLACE MODEL demo.babyweight_model_asis\n",
    "OPTIONS\n",
    "  (\n",
    "    -- TODO 3.1. Completa el tipo de modelo (model_type) a linear_reg\n",
    "    model_type='',\n",
    "    labels=['weight_pounds']\n",
    "  ) AS\n",
    "WITH natality_data AS (\n",
    "  -- TODO 3.2 Completa la CTE con el query que diseñamos en la celda de arriba.\n",
    "  \n",
    ")\n",
    "\n",
    "SELECT\n",
    "    weight_pounds,\n",
    "    is_male,\n",
    "    mother_age,\n",
    "    plurality,\n",
    "    gestation_weeks\n",
    "FROM\n",
    "    natality_data\n",
    "WHERE\n",
    "  ABS(MOD(hashmonth, 4)) < 3  -- select 75% of the data as training"
   ]
  },
  {
   "cell_type": "markdown",
   "metadata": {},
   "source": [
    "75% de los datos son usados para entrenar, mientras el 25% lo reservamos para pruebas."
   ]
  },
  {
   "cell_type": "markdown",
   "metadata": {},
   "source": [
    "## Evaluar nuestro modelo"
   ]
  },
  {
   "cell_type": "markdown",
   "metadata": {},
   "source": [
    "### Paso 1. Visualizar las estadísticas de nuestro modelo"
   ]
  },
  {
   "cell_type": "code",
   "execution_count": null,
   "metadata": {},
   "outputs": [],
   "source": [
    "%%bigquery\n",
    "SELECT * FROM ML.TRAINING_INFO(\n",
    "    -- TODO 3.3. Rellena el nombre del modelo que acabamos de crear\n",
    "    MODEL demo.\n",
    ");"
   ]
  },
  {
   "cell_type": "code",
   "execution_count": null,
   "metadata": {},
   "outputs": [],
   "source": [
    "cloud_console_link = f'https://console.cloud.google.com/bigquery?referrer=search&project={PROJECT_ID}&ws=!1m5!1m4!5m3!1s{PROJECT_ID}!2sdemo!3sbabyweight_model_asis'\n",
    "display_link(cloud_console_link)"
   ]
  },
  {
   "cell_type": "markdown",
   "metadata": {},
   "source": [
    "Algunas de estas columnas son [obvias](https://cloud.google.com/bigquery-ml/docs/reference/standard-sql/bigqueryml-syntax-train#mltraining_info_output), como `loss` y `eval_loss`, que en este caso por ser regresión lineal, corresponden al `MSE` (mean square error) que corresponde a $\\frac{1}{n} \\Sigma_{i=1}^n({y}-\\hat{y})^2$\n",
    "\n",
    "Sin embargo, qué significan las demás?\n",
    "\n",
    "**training_run** - Es cero si el modelo acaba de ser creado. Si el modelo es reentrenado usando la opción `warm_start`, este número incrementa con cada entrenamiento.\n",
    "\n",
    "**iteration** - Relacionado con el `training_run`, comienza desde cero para cada iteración.\n",
    "\n",
    "**duration_ms** - Indica cuantos milisegundos tomó la iteración."
   ]
  },
  {
   "cell_type": "markdown",
   "metadata": {},
   "source": [
    "### Paso 2. Predecir múltiples instancias desde la base de datos"
   ]
  },
  {
   "cell_type": "code",
   "execution_count": null,
   "metadata": {},
   "outputs": [],
   "source": [
    "%%bigquery\n",
    "SELECT\n",
    "    weight_pounds,\n",
    "    CAST(is_male AS STRING) AS is_male,\n",
    "    mother_age,\n",
    "    CAST(plurality AS STRING) AS plurality,\n",
    "    gestation_weeks\n",
    "FROM\n",
    "    publicdata.samples.natality\n",
    "WHERE\n",
    "    year > 2000\n",
    "    AND gestation_weeks > 0\n",
    "    AND mother_age > 0\n",
    "    AND plurality > 0\n",
    "    AND weight_pounds > 0\n",
    "LIMIT\n",
    "    10"
   ]
  },
  {
   "cell_type": "code",
   "execution_count": null,
   "metadata": {},
   "outputs": [],
   "source": [
    "%%bigquery\n",
    "SELECT\n",
    "  *\n",
    "FROM\n",
    "  ml.PREDICT(MODEL demo.babyweight_model_asis,\n",
    "      (\n",
    "      -- TODO 4.1. Rellena la clausula SELECT que acabamos de especificar en la celda de arriba \n",
    "      \n",
    "    )\n",
    ")\n",
    "LIMIT 10"
   ]
  },
  {
   "cell_type": "markdown",
   "metadata": {},
   "source": [
    "En la columna `predicted_weight_pounds` podemos ver el peso que nos está calculando el algoritmo."
   ]
  },
  {
   "cell_type": "markdown",
   "metadata": {},
   "source": [
    "### Paso 3. Predecir una sola instancia con datos personalizados"
   ]
  },
  {
   "cell_type": "markdown",
   "metadata": {},
   "source": [
    "En caso que solo queramos predecir el valor de una sola instancia, es solo cuestión de llenar los datos en un cláusula `SELECT` con un alias para cada columna de entrada."
   ]
  },
  {
   "cell_type": "markdown",
   "metadata": {},
   "source": [
    "Evaluemos el caso en el que el bebé:\n",
    "- Es hombre\n",
    "- La madre tiene 28 años\n",
    "- Es parto único\n",
    "- Y tiene 38 semanas de gestación"
   ]
  },
  {
   "cell_type": "code",
   "execution_count": null,
   "metadata": {},
   "outputs": [],
   "source": [
    "%%bigquery\n",
    "SELECT\n",
    "  *\n",
    "FROM\n",
    "  ml.PREDICT(MODEL demo.babyweight_model_asis,\n",
    "      (SELECT\n",
    "          'True' AS is_male,\n",
    "          -- TODO 4.2. Especifica la edad de la madre (mother_age) en 28 años\n",
    "          \n",
    "          '1' AS plurality,\n",
    "          38 AS gestation_weeks\n",
    "    ))"
   ]
  },
  {
   "cell_type": "markdown",
   "metadata": {},
   "source": [
    "### Paso 4. Evaluar nuestro modelo usando el 25% del dataset"
   ]
  },
  {
   "cell_type": "code",
   "execution_count": null,
   "metadata": {},
   "outputs": [],
   "source": [
    "%%bigquery\n",
    "SELECT\n",
    "  *\n",
    "FROM\n",
    "  ML.EVALUATE(MODEL `demo.babyweight_model_asis`,\n",
    "(\n",
    "    WITH natality_data AS (\n",
    "  SELECT\n",
    "    weight_pounds,-- this is the label; because it is continuous, we need to use regression\n",
    "    CAST(is_male AS STRING) AS is_male,\n",
    "    mother_age,\n",
    "    CAST(plurality AS STRING) AS plurality,\n",
    "    gestation_weeks,\n",
    "    FARM_FINGERPRINT(CONCAT(CAST(YEAR AS STRING), CAST(month AS STRING))) AS hashmonth\n",
    "  FROM\n",
    "    publicdata.samples.natality\n",
    "  WHERE\n",
    "    year > 2000\n",
    "    AND gestation_weeks > 0\n",
    "    AND mother_age > 0\n",
    "    AND plurality > 0\n",
    "    AND weight_pounds > 0\n",
    ")\n",
    "\n",
    "SELECT\n",
    "    weight_pounds,\n",
    "    is_male,\n",
    "    mother_age,\n",
    "    plurality,\n",
    "    gestation_weeks\n",
    "FROM\n",
    "    natality_data\n",
    "WHERE\n",
    "  -- TODO 4.3. Establece el test set para probar a 25% al igual el módulo a 3\n",
    "  ABS(MOD(hashmonth, 4)) =   -- select 25% of the data as testing\n",
    ")\n",
    ")"
   ]
  },
  {
   "cell_type": "markdown",
   "metadata": {},
   "source": [
    "Podemos ver que el modelo tiene una `MAE` (Mean Absolute Error, error absoluto medio, $\\frac{1}{n} \\Sigma_{i=1}^n|{y}-\\hat{y}|$ ) de solo $0.82556$, considerando que el promedio del peso real es de $7.23$...\n",
    "\n",
    "No está nada mal 😁!"
   ]
  },
  {
   "cell_type": "markdown",
   "metadata": {},
   "source": [
    "### Paso 5. Explicar el resultado"
   ]
  },
  {
   "cell_type": "markdown",
   "metadata": {},
   "source": [
    "Ahora usaremos la función [ML.EXPLAIN_PREDICT](https://cloud.google.com/bigquery-ml/docs/reference/standard-sql/bigqueryml-syntax-explain-predict) para obtener las atribuciones de cada feature usando sus valores Shapley **en una única predicción**. Cómo se calculan estos valores queda fuera del scope de esta presentación, pero es posible consultarlos [aquí](https://cloud.google.com/bigquery-ml/docs/reference/standard-sql/bigqueryml-syntax-xai-overview)."
   ]
  },
  {
   "cell_type": "code",
   "execution_count": null,
   "metadata": {},
   "outputs": [],
   "source": [
    "%%bigquery explain_df\n",
    "SELECT\n",
    "  top_feature_attributions\n",
    "FROM\n",
    "  ML.EXPLAIN_PREDICT(\n",
    "    MODEL `demo.babyweight_model_asis`,\n",
    "    (\n",
    "      SELECT\n",
    "          'True' AS is_male,\n",
    "          -- TODO 4.2. Especifica la edad de la madre (mother_age) en 28 años\n",
    "          28 AS mother_age,\n",
    "          '1' AS plurality,\n",
    "          38 AS gestation_weeks\n",
    "    ), STRUCT(10 AS top_k_features)\n",
    "  )"
   ]
  },
  {
   "cell_type": "code",
   "execution_count": null,
   "metadata": {},
   "outputs": [],
   "source": [
    "pd.DataFrame(explain_df.at[0, 'top_feature_attributions'].tolist())"
   ]
  },
  {
   "cell_type": "markdown",
   "metadata": {},
   "source": [
    "Vemos que `plurality` fue el feature más determinante. Ahora veamos de forma global las atribuciones con [ML.GLOBAL_EXPLAIN](https://cloud.google.com/bigquery-ml/docs/reference/standard-sql/bigqueryml-syntax-global-explain)."
   ]
  },
  {
   "cell_type": "code",
   "execution_count": null,
   "metadata": {},
   "outputs": [],
   "source": [
    "%%bigquery\n",
    "SELECT\n",
    "  *\n",
    "FROM\n",
    "  ML.GLOBAL_EXPLAIN(MODEL `demo.babyweight_model_asis`)"
   ]
  },
  {
   "cell_type": "markdown",
   "metadata": {},
   "source": [
    "Además de [exportar](https://cloud.google.com/bigquery-ml/docs/exporting-models) nuestro modelo a formato `SavedModel` de tensorflow, dado que es una regresión lineal también podemos examinar los [pesos](https://cloud.google.com/bigquery-ml/docs/reference/standard-sql/bigqueryml-syntax-weights) directamente."
   ]
  },
  {
   "cell_type": "code",
   "execution_count": null,
   "metadata": {},
   "outputs": [],
   "source": [
    "%%bigquery\n",
    "SELECT\n",
    "  *\n",
    "FROM\n",
    "  ML.WEIGHTS(MODEL `demo.babyweight_model_asis`,\n",
    "    STRUCT(true AS standardize))"
   ]
  },
  {
   "cell_type": "markdown",
   "metadata": {},
   "source": [
    "$\\hat{y} = -3609.900778 + 0.134131*mother\\_age + gestation\\_weeks*0.669343 + plurality\\_weight(plurality) + is\\_male\\_weight(is\\_male)$"
   ]
  },
  {
   "cell_type": "markdown",
   "metadata": {},
   "source": [
    "## Agregar más features (atributos) al modelo"
   ]
  },
  {
   "cell_type": "markdown",
   "metadata": {},
   "source": [
    "Dado que vimos que hay mucha variedad en la edad de las madres mayores a 45 años, conviene discretizarla."
   ]
  },
  {
   "cell_type": "code",
   "execution_count": null,
   "metadata": {},
   "outputs": [],
   "source": [
    "%%bigquery\n",
    "SELECT\n",
    "    weight_pounds,\n",
    "    CAST(is_male AS STRING) AS is_male,\n",
    "    -- TODO 5.1. Incluye un varios IF para que menos de 18 sea LOW, y más de 45 high\n",
    "    IF(mother_age < 18, ,\n",
    "         IF(mother_age > 45, ,\n",
    "            CAST(mother_age AS STRING))) AS mother_age,\n",
    "    CAST(plurality AS STRING) AS plurality,\n",
    "    CAST(gestation_weeks AS STRING) AS gestation_weeks,\n",
    "    FARM_FINGERPRINT(CONCAT(CAST(YEAR AS STRING), CAST(month AS STRING))) AS hashmonth\n",
    "  FROM\n",
    "    publicdata.samples.natality\n",
    "  WHERE\n",
    "    year > 2000\n",
    "    AND gestation_weeks > 0\n",
    "    AND mother_age > 0\n",
    "    AND plurality > 0\n",
    "    AND weight_pounds > 0\n",
    "LIMIT 25"
   ]
  },
  {
   "cell_type": "markdown",
   "metadata": {},
   "source": [
    "También conviene discretizar el campo `plurality` a valores ya sean `Multiple` o `Single`."
   ]
  },
  {
   "cell_type": "code",
   "execution_count": null,
   "metadata": {},
   "outputs": [],
   "source": [
    "%%bigquery\n",
    "SELECT\n",
    "    weight_pounds,\n",
    "    'Unknown' AS is_male,\n",
    "    IF(mother_age < 18, 'LOW',\n",
    "         IF(mother_age > 45, 'HIGH',\n",
    "            CAST(mother_age AS STRING))) AS mother_age,\n",
    "    IF(plurality > 1, 'Multiple', 'Single') AS plurality,\n",
    "    CAST(gestation_weeks AS STRING) AS gestation_weeks,\n",
    "    FARM_FINGERPRINT(CONCAT(CAST(YEAR AS STRING), CAST(month AS STRING))) AS hashmonth\n",
    "  FROM\n",
    "    publicdata.samples.natality\n",
    "  WHERE\n",
    "    year > 2000\n",
    "    AND gestation_weeks > 0\n",
    "    AND mother_age > 0\n",
    "    AND plurality > 0\n",
    "    AND weight_pounds > 0\n",
    "LIMIT 25"
   ]
  },
  {
   "cell_type": "markdown",
   "metadata": {},
   "source": [
    "También podemos tener el caso que el ultrasonido no se realizó y que no sabemos el sexo del feto. Por eso usamos dos `CTE` 's en la misma base de datos para simular esto."
   ]
  },
  {
   "cell_type": "code",
   "execution_count": null,
   "metadata": {},
   "outputs": [],
   "source": [
    "%%bigquery\n",
    "WITH with_ultrasound AS (\n",
    "  SELECT\n",
    "    weight_pounds,\n",
    "    CAST(is_male AS STRING) AS is_male,\n",
    "    IF(mother_age < 18, 'LOW',\n",
    "         IF(mother_age > 45, 'HIGH',\n",
    "            CAST(mother_age AS STRING))) AS mother_age,\n",
    "    CAST(plurality AS STRING) AS plurality,\n",
    "    CAST(gestation_weeks AS STRING) AS gestation_weeks,\n",
    "    FARM_FINGERPRINT(CONCAT(CAST(YEAR AS STRING), CAST(month AS STRING))) AS hashmonth\n",
    "  FROM\n",
    "    publicdata.samples.natality\n",
    "  WHERE\n",
    "    year > 2000\n",
    "    AND gestation_weeks > 0\n",
    "    AND mother_age > 0\n",
    "    AND plurality > 0\n",
    "    AND weight_pounds > 0\n",
    "),\n",
    "\n",
    "without_ultrasound AS (\n",
    "  SELECT\n",
    "    weight_pounds,\n",
    "    'Unknown' AS is_male,\n",
    "    IF(mother_age < 18, 'LOW',\n",
    "         IF(mother_age > 45, 'HIGH',\n",
    "            CAST(mother_age AS STRING))) AS mother_age,\n",
    "    IF(plurality > 1, 'Multiple', 'Single') AS plurality,\n",
    "    CAST(gestation_weeks AS STRING) AS gestation_weeks,\n",
    "    FARM_FINGERPRINT(CONCAT(CAST(YEAR AS STRING), CAST(month AS STRING))) AS hashmonth\n",
    "  FROM\n",
    "    publicdata.samples.natality\n",
    "  WHERE\n",
    "    year > 2000\n",
    "    AND gestation_weeks > 0\n",
    "    AND mother_age > 0\n",
    "    AND plurality > 0\n",
    "    AND weight_pounds > 0\n",
    "),\n",
    "\n",
    "preprocessed AS (\n",
    "  SELECT * from with_ultrasound\n",
    "  UNION ALL\n",
    "  SELECT * from without_ultrasound\n",
    ")\n",
    "\n",
    "SELECT\n",
    "    weight_pounds,\n",
    "    is_male,\n",
    "    mother_age,\n",
    "    plurality,\n",
    "    gestation_weeks\n",
    "FROM\n",
    "    preprocessed\n",
    "WHERE\n",
    "  ABS(MOD(hashmonth, 4)) < 3\n",
    "LIMIT 25"
   ]
  },
  {
   "cell_type": "markdown",
   "metadata": {},
   "source": [
    "Creemos este modelo con esas transformaciones. Tardará entre **5 y 10 mins**."
   ]
  },
  {
   "cell_type": "code",
   "execution_count": null,
   "metadata": {},
   "outputs": [],
   "source": [
    "%%bigquery\n",
    "CREATE or REPLACE MODEL demo.babyweight_model_fc\n",
    "OPTIONS\n",
    "  (model_type='linear_reg', labels=['weight_pounds']) AS\n",
    "WITH with_ultrasound AS (\n",
    "  SELECT\n",
    "    weight_pounds,\n",
    "    CAST(is_male AS STRING) AS is_male,\n",
    "    IF(mother_age < 18, 'LOW',\n",
    "         IF(mother_age > 45, 'HIGH',\n",
    "            CAST(mother_age AS STRING))) AS mother_age,\n",
    "    CAST(plurality AS STRING) AS plurality,\n",
    "    CAST(gestation_weeks AS STRING) AS gestation_weeks,\n",
    "    FARM_FINGERPRINT(CONCAT(CAST(YEAR AS STRING), CAST(month AS STRING))) AS hashmonth\n",
    "  FROM\n",
    "    publicdata.samples.natality\n",
    "  WHERE\n",
    "    year > 2000\n",
    "    AND gestation_weeks > 0\n",
    "    AND mother_age > 0\n",
    "    AND plurality > 0\n",
    "    AND weight_pounds > 0\n",
    "),\n",
    "\n",
    "without_ultrasound AS (\n",
    "  SELECT\n",
    "    weight_pounds,\n",
    "    'Unknown' AS is_male,\n",
    "    IF(mother_age < 18, 'LOW',\n",
    "         IF(mother_age > 45, 'HIGH',\n",
    "            CAST(mother_age AS STRING))) AS mother_age,\n",
    "    IF(plurality > 1, 'Multiple', 'Single') AS plurality,\n",
    "    CAST(gestation_weeks AS STRING) AS gestation_weeks,\n",
    "    FARM_FINGERPRINT(CONCAT(CAST(YEAR AS STRING), CAST(month AS STRING))) AS hashmonth\n",
    "  FROM\n",
    "    publicdata.samples.natality\n",
    "  WHERE\n",
    "    year > 2000\n",
    "    AND gestation_weeks > 0\n",
    "    AND mother_age > 0\n",
    "    AND plurality > 0\n",
    "    AND weight_pounds > 0\n",
    "),\n",
    "\n",
    "preprocessed AS (\n",
    "  SELECT * from with_ultrasound\n",
    "  UNION ALL\n",
    "  SELECT * from without_ultrasound\n",
    ")\n",
    "\n",
    "SELECT\n",
    "    weight_pounds,\n",
    "    is_male,\n",
    "    mother_age,\n",
    "    plurality,\n",
    "    gestation_weeks\n",
    "FROM\n",
    "    preprocessed\n",
    "WHERE\n",
    "  ABS(MOD(hashmonth, 4)) < 3"
   ]
  },
  {
   "cell_type": "markdown",
   "metadata": {},
   "source": [
    "Es posible que te aparezca el siguiente mensaje y es porque se ha excedido el límite del free tier para `CREATE_MODEL`. En dado caso, tendrás que usar otra [cuenta](http://support.google.com/mail/answer/56256?hl=en) D: ."
   ]
  },
  {
   "cell_type": "markdown",
   "metadata": {},
   "source": [
    "![limit](https://github.com/langheran/GITMA2022/raw/main/images/free_tier_limit.png)"
   ]
  },
  {
   "cell_type": "code",
   "execution_count": null,
   "metadata": {},
   "outputs": [],
   "source": [
    "%%bigquery\n",
    "SELECT * FROM ML.TRAINING_INFO(MODEL demo.babyweight_model_fc);"
   ]
  },
  {
   "cell_type": "code",
   "execution_count": null,
   "metadata": {},
   "outputs": [],
   "source": [
    "cloud_console_link = f'https://console.cloud.google.com/bigquery?referrer=search&project={PROJECT_ID}&ws=!1m5!1m4!5m3!1s{PROJECT_ID}!2sdemo!3sbabyweight_model_fc'\n",
    "display_link(cloud_console_link)"
   ]
  },
  {
   "cell_type": "markdown",
   "metadata": {},
   "source": [
    "Evaluemos nuevamente el caso en el que el bebé:\n",
    "- Es hombre\n",
    "- La madre tiene 28 años\n",
    "- Es parto único\n",
    "- Y tiene 38 semanas de gestación"
   ]
  },
  {
   "cell_type": "code",
   "execution_count": null,
   "metadata": {},
   "outputs": [],
   "source": [
    "%%bigquery\n",
    "SELECT\n",
    "  *\n",
    "FROM\n",
    "  ml.PREDICT(MODEL demo.babyweight_model_fc,\n",
    "      (SELECT\n",
    "          'True' AS is_male,\n",
    "          -- TODO 5.2. Especifica la edad de la madre (mother_age) en 28 años\n",
    "\n",
    "          '1' AS plurality,\n",
    "          '38' AS gestation_weeks\n",
    "    ))"
   ]
  },
  {
   "cell_type": "markdown",
   "metadata": {},
   "source": [
    "## Cleanup"
   ]
  },
  {
   "cell_type": "markdown",
   "metadata": {},
   "source": [
    "Ahora procederemos a borrar los modelos contenidos en el dataset `demo` de nuestro proyecto."
   ]
  },
  {
   "cell_type": "code",
   "execution_count": null,
   "metadata": {},
   "outputs": [],
   "source": [
    "dataset_id = \"{}.demo\".format(bq_client.project)\n",
    "models = bq_client.list_models(dataset_id)  # Make an API request.\n",
    "\n",
    "print(\"Models contained in '{}':\".format(dataset_id))\n",
    "for model in models:\n",
    "    full_model_id = \"{}.{}.{}\".format(\n",
    "        model.project, model.dataset_id, model.model_id\n",
    "    )\n",
    "    friendly_name = model.friendly_name\n",
    "    print(\"Deleting {}\".format(full_model_id))\n",
    "    bq_client.delete_model(full_model_id)"
   ]
  },
  {
   "cell_type": "markdown",
   "metadata": {},
   "source": [
    "## Conclusión"
   ]
  },
  {
   "cell_type": "markdown",
   "metadata": {},
   "source": [
    "Felicidades, has concluido el taller! 🎉\n",
    "\n",
    "En este taller aprendimos a:\n",
    "\n",
    "1. Crear un proyecto o usar una cuenta de servicio para conectarnos a _BigQuery_\n",
    "2. Cargar en un `DataFrame` de `pandas` el resultado de un query en _BigQuery_ hacia una base de datos pública \n",
    "3. Usar _Aprendizaje Automático_ desde _BigQuery_\n",
    "4. Hacer una predicción con un modelo creado con el lenguaje _BQML_\n",
    "5. Incrementar la precisión de nuestro modelo con ingeniería de atributos\n",
    "\n",
    "Recuerda llenar el formulario en Google Forms para recibir tu certificado de participación.\n",
    "\n",
    "Esperamos verte pronto con más habilidades de GCP 🤗."
   ]
  }
 ],
 "metadata": {
  "interpreter": {
   "hash": "c2dd64f410e660ad55032a0c18aeb859a9d9f2e307b2e492ce1e3c33e662e306"
  },
  "kernelspec": {
   "display_name": "Python 3.7.10 ('venv': venv)",
   "language": "python",
   "name": "python3"
  },
  "language_info": {
   "codemirror_mode": {
    "name": "ipython",
    "version": 3
   },
   "file_extension": ".py",
   "mimetype": "text/x-python",
   "name": "python",
   "nbconvert_exporter": "python",
   "pygments_lexer": "ipython3",
   "version": "3.7.10"
  }
 },
 "nbformat": 4,
 "nbformat_minor": 2
}
